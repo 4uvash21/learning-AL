{
    {
      "cell_type": "code",
      "execution_count": null,
      "metadata": {
        "id": "G29PbiX70_p5"
      },
      "outputs": [],
      "source": [
        "import numpy as np\n",
        "import tensorflow as tf\n",
        "from tensorflow import keras\n",
        "from sklearn.model_selection import train_test_split\n",
        "from tensorflow.keras.utils import to_categorical"
      ]
    },
    {
      "cell_type": "code",
      "execution_count": null,
      "metadata": {
        "id": "wj01reR80_If"
      },
      "outputs": [],
      "source": [
        "# 1. Загрузка данных\n",
        "(X, y), (X_test, y_test) = keras.datasets.mnist.load_data()\n",
        "X = X.reshape(-1, 28, 28, 1).astype('float32') / 255\n",
        "y = keras.utils.to_categorical(y, 10)\n",
        "\n",
        "# Разделение на обучающую и валидационную выборки\n",
        "X_train, X_val, y_train, y_val = train_test_split(X, y, test_size=0.2, random_state=42)"
      ]
    },
    {
      "cell_type": "code",
      "execution_count": null,
      "metadata": {
        "id": "qZkWJDht1WBZ"
      },
      "outputs": [],
      "source": [
        "# Преобразование меток в формат one-hot\n",
        "y_train = y_train.reshape(-1, 10)\n",
        "y_val = y_val.reshape(-1, 10)\n",
        "y_test = y_test.reshape(-1, 10)"
      ]
    },
    {
      "cell_type": "code",
      "execution_count": null,
      "metadata": {
        "colab": {
          "base_uri": "https://localhost:8080/"
        },
        "id": "C6w-DxK31-EK",
        "outputId": "20cd6d91-97bf-4395-9f76-fc2fbb6bf5be"
      },
      "outputs": [
        {
          "name": "stdout",
          "output_type": "stream",
          "text": [
            "y_train shape: (48000, 10)\n",
            "y_val shape: (12000, 10)\n",
            "y_test shape: (1000, 10)\n"
          ]
        }
      ],
      "source": [
        "# Проверка форм\n",
        "print(f\"y_train shape: {y_train.shape}\")\n",
        "print(f\"y_val shape: {y_val.shape}\")\n",
        "print(f\"y_test shape: {y_test.shape}\")"
      ]
    },
    {
      "cell_type": "code",
      "execution_count": null,
      "metadata": {
        "colab": {
          "base_uri": "https://localhost:8080/"
        },
        "id": "4JVZ39E97FBH",
        "outputId": "02f75537-9880-45dd-88a2-c2ac82f5db0d"
      },
      "outputs": [
        {
          "name": "stdout",
          "output_type": "stream",
          "text": [
            "X_test shape: (1000, 28, 28)\n",
            "y_test shape: (1000, 10)\n"
          ]
        }
      ],
      "source": [
        "print(f\"X_test shape: {X_test.shape}\")  # Должно быть (1000, 28, 28, 1)\n",
        "print(f\"y_test shape: {y_test.shape}\")  # Должно быть (1000, 10)"
      ]
    },
    {
      "cell_type": "code",
      "execution_count": null,
      "metadata": {
        "id": "dhWYkcUJ7bOD"
      },
      "outputs": [],
      "source": [
        "X_test = X_test[:len(y_test)]"
      ]
    },
    {
      "cell_type": "code",
      "execution_count": null,
      "metadata": {
        "id": "BV9JeQt81ERE"
      },
      "outputs": [],
      "source": [
        "# 2. Определение моделей\n",
        "def create_cnn_model(num_filters, kernel_size, dropout_rate):\n",
        "    kernel_size = (kernel_size, kernel_size)\n",
        "    model = keras.Sequential([\n",
        "        keras.Input(shape=(28, 28, 1)),  # Используем Input вместо input_shape\n",
        "        keras.layers.Conv2D(num_filters, kernel_size, activation='relu'),\n",
        "        keras.layers.MaxPooling2D(pool_size=(2, 2)),\n",
        "        keras.layers.Dropout(dropout_rate),\n",
        "        keras.layers.Flatten(),\n",
        "        keras.layers.Dense(10, activation='softmax')\n",
        "    ])\n",
        "    model.compile(optimizer='adam', loss='categorical_crossentropy', metrics=['accuracy'])\n",
        "    return model\n",
        "\n",
        "def create_rnn_model(units, dropout_rate):\n",
        "    model = keras.Sequential([\n",
        "        keras.layers.SimpleRNN(units, input_shape=(28, 28), return_sequences=True),\n",
        "        keras.layers.Dropout(dropout_rate),\n",
        "        keras.layers.Flatten(),\n",
        "        keras.layers.Dense(10, activation='softmax')\n",
        "    ])\n",
        "    model.compile(optimizer='adam', loss='categorical_crossentropy', metrics=['accuracy'])\n",
        "    return model\n",
        "\n",
        "def create_mlp_model(hidden_units, dropout_rate):\n",
        "    model = keras.Sequential([\n",
        "        keras.layers.Flatten(input_shape=(28, 28, 1)),\n",
        "        keras.layers.Dense(hidden_units, activation='relu'),\n",
        "        keras.layers.Dropout(dropout_rate),\n",
        "        keras.layers.Dense(10, activation='softmax')\n",
        "    ])\n",
        "    model.compile(optimizer='adam', loss='categorical_crossentropy', metrics=['accuracy'])\n",
        "    return model"
      ]
    },
    {
      "cell_type": "code",
      "execution_count": null,
      "metadata": {
        "id": "hRjXrwBx1GdF"
      },
      "outputs": [],
      "source": [
        "# 3. Генетический алгоритм для оптимизации гиперпараметров\n",
        "def genetic_algorithm(population_size, generations):\n",
        "    population = []\n",
        "    best_models = []\n",
        "\n",
        "    for _ in range(population_size):\n",
        "        num_filters = np.random.choice([16, 32, 64])\n",
        "        kernel_size = np.random.choice([3, 5])\n",
        "        dropout_rate = np.random.uniform(0.1, 0.5)\n",
        "        population.append((num_filters, kernel_size, dropout_rate))\n",
        "\n",
        "    for generation in range(generations):\n",
        "        print(f\"Generation {generation + 1}/{generations}\")\n",
        "        fitness_scores = []\n",
        "\n",
        "        for params in population:\n",
        "            model = create_cnn_model(params[0], params[1], params[2])\n",
        "            model.fit(X_train, y_train, epochs=3, validation_data=(X_val, y_val), verbose=0)\n",
        "            score = model.evaluate(X_val, y_val, verbose=0)\n",
        "            fitness_scores.append(score[0])  # Сохраняем значение потерь\n",
        "\n",
        "        sorted_population = [x for _, x in sorted(zip(fitness_scores, population))]\n",
        "        best_models.append(sorted_population[0])\n",
        "\n",
        "        next_generation = sorted_population[:population_size // 2]\n",
        "\n",
        "        # Кроссовер\n",
        "        while len(next_generation) < population_size:\n",
        "            # Выбор родителей из списка кортежей\n",
        "            parent1, parent2 = np.random.choice(len(next_generation), 2, replace=False)\n",
        "            parent1 = next_generation[parent1]\n",
        "            parent2 = next_generation[parent2]\n",
        "\n",
        "            child = (\n",
        "                np.random.choice([parent1[0], parent2[0]]),  # num_filters\n",
        "                np.random.choice([parent1[1], parent2[1]]),  # kernel_size\n",
        "                np.random.uniform(min(parent1[2], parent2[2]), max(parent1[2], parent2[2]))  # dropout_rate\n",
        "            )\n",
        "            next_generation.append(child)\n",
        "\n",
        "        population = next_generation\n",
        "\n",
        "    return best_models"
      ]
    },
    {
      "cell_type": "code",
      "execution_count": null,
      "metadata": {
        "colab": {
          "base_uri": "https://localhost:8080/"
        },
        "id": "B_vqhbdeojQj",
        "outputId": "b1e21222-b903-4cf3-f2a4-76e68c695716"
      },
      "outputs": [
        {
          "name": "stdout",
          "output_type": "stream",
          "text": [
            "Generation 1/5\n",
            "Generation 2/5\n",
            "Generation 3/5\n",
            "Generation 4/5\n",
            "Generation 5/5\n",
            "Лучшие параметры модели: num_filters=64, kernel_size=5, dropout_rate=0.2745\n",
            "Лучший результат на тестовых данных: 171952.0938\n"
          ]
        }
      ],
      "source": [
        "# 4. Обучение моделей и сравнение результатов\n",
        "best_models = genetic_algorithm(population_size=10, generations=5)\n",
        "\n",
        "# Оценка лучших моделей\n",
        "best_score = float('inf')\n",
        "best_model = None\n",
        "best_params = None\n",
        "\n",
        "for params in best_models:\n",
        "    model = create_cnn_model(*params)\n",
        "    model.fit(X_train, y_train, epochs=3, validation_data=(X_val, y_val), verbose=0)\n",
        "    score = model.evaluate(X_test, y_test, verbose=0)\n",
        "    if score[0] < best_score:\n",
        "        best_score = score[0]\n",
        "        best_model = model\n",
        "        best_params = params\n",
        "\n",
        "print(f\"Лучшие параметры модели: num_filters={best_params[0]}, kernel_size={best_params[1]}, dropout_rate={best_params[2]:.4f}\")\n",
        "print(f\"Лучший результат на тестовых данных: {best_score:.4f}\")\n"
      ]
    },
    {
      "cell_type": "code",
      "execution_count": null,
      "metadata": {
        "colab": {
          "base_uri": "https://localhost:8080/",
          "height": 540
        },
        "id": "qfRz3fih1LpV",
        "outputId": "3865ea49-3975-4099-9ada-fa1624689770"
      },
      "outputs": [
        {
          "name": "stderr",
          "output_type": "stream",
          "text": [
            "/usr/local/lib/python3.11/dist-packages/keras/src/layers/rnn/rnn.py:200: UserWarning: Do not pass an `input_shape`/`input_dim` argument to a layer. When using Sequential models, prefer using an `Input(shape)` object as the first layer in the model instead.\n",
            "  super().__init__(**kwargs)\n",
            "/usr/local/lib/python3.11/dist-packages/keras/src/layers/reshaping/flatten.py:37: UserWarning: Do not pass an `input_shape`/`input_dim` argument to a layer. When using Sequential models, prefer using an `Input(shape)` object as the first layer in the model instead.\n",
            "  super().__init__(**kwargs)\n"
          ]
        },
        {
          "name": "stdout",
          "output_type": "stream",
          "text": [
            "Результат RNN на тестовых данных: 451.0321\n",
            "Результат MLP на тестовых данных: 111715.9219\n",
            "\n",
            "Итоговое сравнение:\n",
            "CNN: 171952.0938 (num_filters=64, kernel_size=5, dropout_rate=0.2745)\n",
            "RNN: 451.0321\n",
            "MLP: 111715.9219\n"
          ]
        },
        {
          "data": {
            "text/html": [
              "<pre style=\"white-space:pre;overflow-x:auto;line-height:normal;font-family:Menlo,'DejaVu Sans Mono',consolas,'Courier New',monospace\"><span style=\"font-weight: bold\">Model: \"sequential_104\"</span>\n",
              "</pre>\n"
            ],
            "text/plain": [
              "\u001b[1mModel: \"sequential_104\"\u001b[0m\n"
            ]
          },
          "metadata": {},
          "output_type": "display_data"
        },
        {
          "data": {
            "text/html": [
              "<pre style=\"white-space:pre;overflow-x:auto;line-height:normal;font-family:Menlo,'DejaVu Sans Mono',consolas,'Courier New',monospace\">┏━━━━━━━━━━━━━━━━━━━━━━━━━━━━━━━━━━━━━━┳━━━━━━━━━━━━━━━━━━━━━━━━━━━━━┳━━━━━━━━━━━━━━━━━┓\n",
              "┃<span style=\"font-weight: bold\"> Layer (type)                         </span>┃<span style=\"font-weight: bold\"> Output Shape                </span>┃<span style=\"font-weight: bold\">         Param # </span>┃\n",
              "┡━━━━━━━━━━━━━━━━━━━━━━━━━━━━━━━━━━━━━━╇━━━━━━━━━━━━━━━━━━━━━━━━━━━━━╇━━━━━━━━━━━━━━━━━┩\n",
              "│ conv2d_104 (<span style=\"color: #0087ff; text-decoration-color: #0087ff\">Conv2D</span>)                  │ (<span style=\"color: #00d7ff; text-decoration-color: #00d7ff\">None</span>, <span style=\"color: #00af00; text-decoration-color: #00af00\">24</span>, <span style=\"color: #00af00; text-decoration-color: #00af00\">24</span>, <span style=\"color: #00af00; text-decoration-color: #00af00\">64</span>)          │           <span style=\"color: #00af00; text-decoration-color: #00af00\">1,664</span> │\n",
              "├──────────────────────────────────────┼─────────────────────────────┼─────────────────┤\n",
              "│ max_pooling2d_104 (<span style=\"color: #0087ff; text-decoration-color: #0087ff\">MaxPooling2D</span>)     │ (<span style=\"color: #00d7ff; text-decoration-color: #00d7ff\">None</span>, <span style=\"color: #00af00; text-decoration-color: #00af00\">12</span>, <span style=\"color: #00af00; text-decoration-color: #00af00\">12</span>, <span style=\"color: #00af00; text-decoration-color: #00af00\">64</span>)          │               <span style=\"color: #00af00; text-decoration-color: #00af00\">0</span> │\n",
              "├──────────────────────────────────────┼─────────────────────────────┼─────────────────┤\n",
              "│ dropout_104 (<span style=\"color: #0087ff; text-decoration-color: #0087ff\">Dropout</span>)                │ (<span style=\"color: #00d7ff; text-decoration-color: #00d7ff\">None</span>, <span style=\"color: #00af00; text-decoration-color: #00af00\">12</span>, <span style=\"color: #00af00; text-decoration-color: #00af00\">12</span>, <span style=\"color: #00af00; text-decoration-color: #00af00\">64</span>)          │               <span style=\"color: #00af00; text-decoration-color: #00af00\">0</span> │\n",
              "├──────────────────────────────────────┼─────────────────────────────┼─────────────────┤\n",
              "│ flatten_104 (<span style=\"color: #0087ff; text-decoration-color: #0087ff\">Flatten</span>)                │ (<span style=\"color: #00d7ff; text-decoration-color: #00d7ff\">None</span>, <span style=\"color: #00af00; text-decoration-color: #00af00\">9216</span>)                │               <span style=\"color: #00af00; text-decoration-color: #00af00\">0</span> │\n",
              "├──────────────────────────────────────┼─────────────────────────────┼─────────────────┤\n",
              "│ dense_104 (<span style=\"color: #0087ff; text-decoration-color: #0087ff\">Dense</span>)                    │ (<span style=\"color: #00d7ff; text-decoration-color: #00d7ff\">None</span>, <span style=\"color: #00af00; text-decoration-color: #00af00\">10</span>)                  │          <span style=\"color: #00af00; text-decoration-color: #00af00\">92,170</span> │\n",
              "└──────────────────────────────────────┴─────────────────────────────┴─────────────────┘\n",
              "</pre>\n"
            ],
            "text/plain": [
              "┏━━━━━━━━━━━━━━━━━━━━━━━━━━━━━━━━━━━━━━┳━━━━━━━━━━━━━━━━━━━━━━━━━━━━━┳━━━━━━━━━━━━━━━━━┓\n",
              "┃\u001b[1m \u001b[0m\u001b[1mLayer (type)                        \u001b[0m\u001b[1m \u001b[0m┃\u001b[1m \u001b[0m\u001b[1mOutput Shape               \u001b[0m\u001b[1m \u001b[0m┃\u001b[1m \u001b[0m\u001b[1m        Param #\u001b[0m\u001b[1m \u001b[0m┃\n",
              "┡━━━━━━━━━━━━━━━━━━━━━━━━━━━━━━━━━━━━━━╇━━━━━━━━━━━━━━━━━━━━━━━━━━━━━╇━━━━━━━━━━━━━━━━━┩\n",
              "│ conv2d_104 (\u001b[38;5;33mConv2D\u001b[0m)                  │ (\u001b[38;5;45mNone\u001b[0m, \u001b[38;5;34m24\u001b[0m, \u001b[38;5;34m24\u001b[0m, \u001b[38;5;34m64\u001b[0m)          │           \u001b[38;5;34m1,664\u001b[0m │\n",
              "├──────────────────────────────────────┼─────────────────────────────┼─────────────────┤\n",
              "│ max_pooling2d_104 (\u001b[38;5;33mMaxPooling2D\u001b[0m)     │ (\u001b[38;5;45mNone\u001b[0m, \u001b[38;5;34m12\u001b[0m, \u001b[38;5;34m12\u001b[0m, \u001b[38;5;34m64\u001b[0m)          │               \u001b[38;5;34m0\u001b[0m │\n",
              "├──────────────────────────────────────┼─────────────────────────────┼─────────────────┤\n",
              "│ dropout_104 (\u001b[38;5;33mDropout\u001b[0m)                │ (\u001b[38;5;45mNone\u001b[0m, \u001b[38;5;34m12\u001b[0m, \u001b[38;5;34m12\u001b[0m, \u001b[38;5;34m64\u001b[0m)          │               \u001b[38;5;34m0\u001b[0m │\n",
              "├──────────────────────────────────────┼─────────────────────────────┼─────────────────┤\n",
              "│ flatten_104 (\u001b[38;5;33mFlatten\u001b[0m)                │ (\u001b[38;5;45mNone\u001b[0m, \u001b[38;5;34m9216\u001b[0m)                │               \u001b[38;5;34m0\u001b[0m │\n",
              "├──────────────────────────────────────┼─────────────────────────────┼─────────────────┤\n",
              "│ dense_104 (\u001b[38;5;33mDense\u001b[0m)                    │ (\u001b[38;5;45mNone\u001b[0m, \u001b[38;5;34m10\u001b[0m)                  │          \u001b[38;5;34m92,170\u001b[0m │\n",
              "└──────────────────────────────────────┴─────────────────────────────┴─────────────────┘\n"
            ]
          },
          "metadata": {},
          "output_type": "display_data"
        },
        {
          "data": {
            "text/html": [
              "<pre style=\"white-space:pre;overflow-x:auto;line-height:normal;font-family:Menlo,'DejaVu Sans Mono',consolas,'Courier New',monospace\"><span style=\"font-weight: bold\"> Total params: </span><span style=\"color: #00af00; text-decoration-color: #00af00\">281,504</span> (1.07 MB)\n",
              "</pre>\n"
            ],
            "text/plain": [
              "\u001b[1m Total params: \u001b[0m\u001b[38;5;34m281,504\u001b[0m (1.07 MB)\n"
            ]
          },
          "metadata": {},
          "output_type": "display_data"
        },
        {
          "data": {
            "text/html": [
              "<pre style=\"white-space:pre;overflow-x:auto;line-height:normal;font-family:Menlo,'DejaVu Sans Mono',consolas,'Courier New',monospace\"><span style=\"font-weight: bold\"> Trainable params: </span><span style=\"color: #00af00; text-decoration-color: #00af00\">93,834</span> (366.54 KB)\n",
              "</pre>\n"
            ],
            "text/plain": [
              "\u001b[1m Trainable params: \u001b[0m\u001b[38;5;34m93,834\u001b[0m (366.54 KB)\n"
            ]
          },
          "metadata": {},
          "output_type": "display_data"
        },
        {
          "data": {
            "text/html": [
              "<pre style=\"white-space:pre;overflow-x:auto;line-height:normal;font-family:Menlo,'DejaVu Sans Mono',consolas,'Courier New',monospace\"><span style=\"font-weight: bold\"> Non-trainable params: </span><span style=\"color: #00af00; text-decoration-color: #00af00\">0</span> (0.00 B)\n",
              "</pre>\n"
            ],
            "text/plain": [
              "\u001b[1m Non-trainable params: \u001b[0m\u001b[38;5;34m0\u001b[0m (0.00 B)\n"
            ]
          },
          "metadata": {},
          "output_type": "display_data"
        },
        {
          "data": {
            "text/html": [
              "<pre style=\"white-space:pre;overflow-x:auto;line-height:normal;font-family:Menlo,'DejaVu Sans Mono',consolas,'Courier New',monospace\"><span style=\"font-weight: bold\"> Optimizer params: </span><span style=\"color: #00af00; text-decoration-color: #00af00\">187,670</span> (733.09 KB)\n",
              "</pre>\n"
            ],
            "text/plain": [
              "\u001b[1m Optimizer params: \u001b[0m\u001b[38;5;34m187,670\u001b[0m (733.09 KB)\n"
            ]
          },
          "metadata": {},
          "output_type": "display_data"
        }
      ],
      "source": [
        "# Сравнение с другими моделями (например, RNN и MLP)\n",
        "# Для RNN\n",
        "rnn_model = create_rnn_model(units=32, dropout_rate=0.2)\n",
        "rnn_model.fit(X_train.reshape(-1, 28, 28), y_train, epochs=3, validation_data=(X_val.reshape(-1, 28, 28), y_val), verbose=0)\n",
        "rnn_score = rnn_model.evaluate(X_test.reshape(-1, 28, 28), y_test, verbose=0)\n",
        "\n",
        "# Для MLP\n",
        "mlp_model = create_mlp_model(hidden_units=64, dropout_rate=0.2)\n",
        "mlp_model.fit(X_train, y_train, epochs=3, validation_data=(X_val, y_val), verbose=0)\n",
        "mlp_score = mlp_model.evaluate(X_test, y_test, verbose=0)\n",
        "\n",
        "# Сравнение результатов\n",
        "print(f\"Результат RNN на тестовых данных: {rnn_score[0]:.4f}\")\n",
        "print(f\"Результат MLP на тестовых данных: {mlp_score[0]:.4f}\")\n",
        "\n",
        "# Итоговое сравнение\n",
        "print(\"\\nИтоговое сравнение:\")\n",
        "print(f\"CNN: {best_score:.4f} (num_filters={best_params[0]}, kernel_size={best_params[1]}, dropout_rate={best_params[2]:.4f})\")\n",
        "print(f\"RNN: {rnn_score[0]:.4f}\")\n",
        "print(f\"MLP: {mlp_score[0]:.4f}\")\n",
        "\n",
        "best_model.summary()  # Выводим структуру лучшей модели"
      ]
    }
  ],
  "metadata": {
    "accelerator": "GPU",
    "colab": {
      "gpuType": "T4",
      "provenance": []
    },
    "kernelspec": {
      "display_name": "Python 3",
      "name": "python3"
    },
    "language_info": {
      "name": "python"
    }
  },
  "nbformat": 4,
  "nbformat_minor": 0
}
